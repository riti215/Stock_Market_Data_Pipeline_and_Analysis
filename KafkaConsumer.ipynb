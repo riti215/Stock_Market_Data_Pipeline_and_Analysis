{
 "cells": [
  {
   "cell_type": "code",
   "execution_count": null,
   "id": "8989e12a",
   "metadata": {},
   "outputs": [],
   "source": [
    "from kafka import KafkaConsumer\n",
    "from time import sleep\n",
    "from json import dumps, loads\n",
    "import json\n",
    "from s3fs import S3FileSystem"
   ]
  },
  {
   "cell_type": "code",
   "execution_count": null,
   "id": "53da8853",
   "metadata": {},
   "outputs": [],
   "source": [
    "#Create Consumer instance\n",
    "consumer = KafkaConsumer('stock-market-kafka', bootstrap_servers=['ec2-13-235-49-112.ap-south-1.compute.amazonaws.com:9092'], \n",
    "                        value_deserializer=lambda x: loads(x.decode('utf-8')))"
   ]
  },
  {
   "cell_type": "code",
   "execution_count": null,
   "id": "6a67feb5",
   "metadata": {},
   "outputs": [],
   "source": [
    "#Create S3FileSystem instance\n",
    "s3 = S3FileSystem()"
   ]
  },
  {
   "cell_type": "code",
   "execution_count": null,
   "id": "575fe639",
   "metadata": {},
   "outputs": [],
   "source": [
    "#Read messages from topic and write them to Amazon S3 as JSON files\n",
    "for count, i in enumerate(consumer):\n",
    "    with s3.open(\"s3://stock-market-kafka-storage/stock_market_{}.json\".format(count), 'w') as file:\n",
    "        json.dump(i.value, file)"
   ]
  }
 ],
 "metadata": {
  "kernelspec": {
   "display_name": "Python 3 (ipykernel)",
   "language": "python",
   "name": "python3"
  },
  "language_info": {
   "codemirror_mode": {
    "name": "ipython",
    "version": 3
   },
   "file_extension": ".py",
   "mimetype": "text/x-python",
   "name": "python",
   "nbconvert_exporter": "python",
   "pygments_lexer": "ipython3",
   "version": "3.11.5"
  }
 },
 "nbformat": 4,
 "nbformat_minor": 5
}
